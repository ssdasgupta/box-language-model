{
 "cells": [
  {
   "cell_type": "code",
   "execution_count": 1,
   "metadata": {},
   "outputs": [],
   "source": [
    "import torchtext, random, torch\n",
    "\n",
    "import torch.nn as nn\n",
    "import torch.nn.functional as F\n",
    "from torch.autograd import Variable\n",
    "from box_wrapper import DeltaBoxTensor\n",
    "from modules import BoxEmbedding\n",
    "\n",
    "import numpy as np\n",
    "from tqdm import tqdm_notebook\n",
    "\n",
    "global use_cuda\n",
    "use_cuda = torch.cuda.is_available()\n",
    "device = 0 if use_cuda else -1\n",
    "\n",
    "TEXT = torchtext.data.Field()\n",
    "train, val, test = torchtext.datasets.LanguageModelingDataset.splits(path=\"../data\", train=\"train.txt\", validation=\"valid.txt\", test=\"valid.txt\", text_field=TEXT)\n",
    "TEXT.build_vocab(train, max_size=1000) if False else TEXT.build_vocab(train)\n",
    "TEXT.vocab.load_vectors('glove.840B.300d')\n",
    "train_iter, val_iter, test_iter = torchtext.data.BPTTIterator.splits((train, val, test), batch_size=10, bptt_len=10, repeat=False)"
   ]
  },
  {
   "cell_type": "code",
   "execution_count": 7,
   "metadata": {},
   "outputs": [],
   "source": [
    "class Trainer:\n",
    "    def __init__(self, train_iter, val_iter):\n",
    "        self.train_iter = train_iter\n",
    "        self.val_iter = val_iter\n",
    "        \n",
    "    def string_to_batch(self, string):\n",
    "        relevant_split = string.split() # last two words, ignore ___\n",
    "        ids = [self.word_to_id(word) for word in relevant_split]\n",
    "        if use_cuda:\n",
    "            return Variable(torch.LongTensor(ids)).cuda()\n",
    "        else:\n",
    "            return Variable(torch.LongTensor(ids))\n",
    "        \n",
    "    def word_to_id(self, word, TEXT = TEXT):\n",
    "        return TEXT.vocab.stoi[word]\n",
    "    \n",
    "    def batch_to_input(self, batch):\n",
    "        ngrams = self.collect_batch_ngrams(batch)\n",
    "        x = Variable(torch.LongTensor([ngram[:-1] for ngram in ngrams]))\n",
    "        y = Variable(torch.LongTensor([ngram[-1] for ngram in ngrams]))\n",
    "        if use_cuda:\n",
    "            return x.cuda(), y.cuda()\n",
    "        else:\n",
    "            return x, y\n",
    "    \n",
    "    def collect_batch_ngrams(self, batch, n = 5):\n",
    "        data = torch.flatten(batch.text.T)\n",
    "        return [tuple(data[idx:idx + n]) for idx in range(0, len(data) - n + 1)]\n",
    "    \n",
    "    def train_model(self, model, num_epochs):\n",
    "        parameters = filter(lambda p: p.requires_grad, model.parameters())\n",
    "        optimizer = torch.optim.Adam(params = parameters, lr=1e-1)\n",
    "        criterion = nn.NLLLoss()\n",
    "        \n",
    "        for epoch in tqdm_notebook(range(num_epochs)):\n",
    "            epoch_loss = []\n",
    "#             hidden = model.init_hidden()\n",
    "            model.train()\n",
    "            count = 0\n",
    "            for batch in tqdm_notebook(train_iter):\n",
    "                x, y = self.batch_to_input(batch)\n",
    "                if use_cuda: x, y = x.cuda(), y.cuda()\n",
    "                optimizer.zero_grad()\n",
    "                y_pred = model.forward(x, train = True)\n",
    "                loss = criterion(y_pred, y)\n",
    "                loss.backward()\n",
    "                optimizer.step()\n",
    "                epoch_loss.append(loss.data.item())\n",
    "                count += 1\n",
    "                if count > 2: break\n",
    "            model.eval()\n",
    "            train_ppl = np.exp(np.mean(epoch_loss))\n",
    "#             val_ppl = self.validate(model)\n",
    "            val_ppl = 0\n",
    "\n",
    "            print('Epoch {0} | Loss: {1} | Train PPL: {2} | Val PPL: {3}'.format(epoch+1, np.mean(epoch_loss), train_ppl,  val_ppl))\n",
    "    \n",
    "        print('Model trained.')\n",
    "        self.write_kaggle(model)\n",
    "        print('Output saved.')\n",
    "        \n",
    "    def validate(self, model):\n",
    "        criterion = nn.NLLLoss()\n",
    "        aggregate_loss = []\n",
    "        for batch in self.val_iter:\n",
    "            x, y = self.batch_to_input(batch)\n",
    "            if use_cuda: x, y = x.cuda(), y.cuda()\n",
    "            y_p = model.forward(x, train = False)\n",
    "            loss = criterion(y_p, y)\n",
    "            aggregate_loss.append(loss.data.item())        \n",
    "        val_ppl = np.exp(np.mean(aggregate_loss))\n",
    "        return val_ppl\n",
    "    \n",
    "#     def predict_sentence(self, string, model, TEXT = TEXT):\n",
    "#         string = string[:-4]\n",
    "#         model.batch_size = 1\n",
    "#         hidden = model.init_hidden()\n",
    "#         x = self.string_to_batch(string)\n",
    "#         logits, _ = model.forward(x, hidden, train = False)\n",
    "#         argsort_ids = np.argsort(logits[-1].data.tolist())\n",
    "#         out_ids = argsort_ids[-20:][::-1]\n",
    "#         out_words = ' '.join([TEXT.vocab.itos[out_id] for out_id in out_ids])\n",
    "#         return out_words"
   ]
  },
  {
   "cell_type": "code",
   "execution_count": 8,
   "metadata": {},
   "outputs": [],
   "source": [
    "class BoxModel(nn.Module):\n",
    "    box_types = {\n",
    "        'DeltaBoxTensor': DeltaBoxTensor,\n",
    "    }\n",
    "    def __init__(self, TEXT = TEXT, batch_size = 10, n_gram=4):\n",
    "        super(BoxModel, self).__init__()\n",
    "        self.batch_size = batch_size\n",
    "        self.n_gram = n_gram\n",
    "        self.vocab_size, self.embedding_dim = TEXT.vocab.vectors.shape\n",
    "        self.embeddings_word = BoxEmbedding(self.vocab_size, self.embedding_dim, box_type='DeltaBoxTensor')\n",
    "        self.embedding_bias = nn.Embedding(self.vocab_size, 1)\n",
    "        self.embedding_bias.weight.data = torch.zeros(self.vocab_size, 1)\n",
    "    \n",
    "    def forward(self, x, train = True):\n",
    "        \"\"\" predict, return hidden state so it can be used to intialize the next hidden state \"\"\"\n",
    "        context_word_boxes = self.embeddings_word(x)\n",
    "        lm_batch_size = x.shape[0]\n",
    "        context_word_boxes.data = torch.mean(context_word_boxes.data, dim=1).view(-1,1,2,self.embedding_dim)\n",
    "        all_word = self.embeddings_word(torch.arange(self.vocab_size))\n",
    "        all_word.data = all_word.data.view(1, self.vocab_size, 2,self.embedding_dim)\n",
    "#         all_word.data = all_word.data.view(-1,1,2,self.embedding_dim)\n",
    "        dec = all_word.intersection_log_soft_volume(context_word_boxes)\n",
    "        decoded = dec + self.embedding_bias(torch.arange(self.vocab_size)).view(-1)\n",
    "        logits = F.log_softmax(decoded, dim = 1)       \n",
    "        return logits"
   ]
  },
  {
   "cell_type": "code",
   "execution_count": null,
   "metadata": {},
   "outputs": [
    {
     "data": {
      "application/vnd.jupyter.widget-view+json": {
       "model_id": "ccb1d95f364a4b6c8bd1e04b0f8f8c39",
       "version_major": 2,
       "version_minor": 0
      },
      "text/plain": [
       "HBox(children=(IntProgress(value=0, max=40), HTML(value='')))"
      ]
     },
     "metadata": {},
     "output_type": "display_data"
    },
    {
     "data": {
      "application/vnd.jupyter.widget-view+json": {
       "model_id": "0fcfbbeff4674bd0a73f698319822a30",
       "version_major": 2,
       "version_minor": 0
      },
      "text/plain": [
       "HBox(children=(IntProgress(value=0, max=9296), HTML(value='')))"
      ]
     },
     "metadata": {},
     "output_type": "display_data"
    },
    {
     "name": "stdout",
     "output_type": "stream",
     "text": [
      "Epoch 1 | Loss: 28.31008752187093 | Train PPL: 1972035791655.3457 | Val PPL: 0\n"
     ]
    },
    {
     "data": {
      "application/vnd.jupyter.widget-view+json": {
       "model_id": "e9e9d5604e8247c992d85d0c63c8179a",
       "version_major": 2,
       "version_minor": 0
      },
      "text/plain": [
       "HBox(children=(IntProgress(value=0, max=9296), HTML(value='')))"
      ]
     },
     "metadata": {},
     "output_type": "display_data"
    },
    {
     "name": "stdout",
     "output_type": "stream",
     "text": [
      "Epoch 2 | Loss: 18.96613661448161 | Train PPL: 172539475.9741962 | Val PPL: 0\n"
     ]
    },
    {
     "data": {
      "application/vnd.jupyter.widget-view+json": {
       "model_id": "2780994ac8a54c368547bac4da3089ef",
       "version_major": 2,
       "version_minor": 0
      },
      "text/plain": [
       "HBox(children=(IntProgress(value=0, max=9296), HTML(value='')))"
      ]
     },
     "metadata": {},
     "output_type": "display_data"
    },
    {
     "name": "stdout",
     "output_type": "stream",
     "text": [
      "\n",
      "Epoch 3 | Loss: 18.243431727091473 | Train PPL: 83757118.92038861 | Val PPL: 0\n"
     ]
    },
    {
     "data": {
      "application/vnd.jupyter.widget-view+json": {
       "model_id": "2e0587656f90445dabe8c59811dd91a4",
       "version_major": 2,
       "version_minor": 0
      },
      "text/plain": [
       "HBox(children=(IntProgress(value=0, max=9296), HTML(value='')))"
      ]
     },
     "metadata": {},
     "output_type": "display_data"
    },
    {
     "name": "stdout",
     "output_type": "stream",
     "text": [
      "Epoch 4 | Loss: 16.99761740366618 | Train PPL: 24097469.758281067 | Val PPL: 0\n"
     ]
    },
    {
     "data": {
      "application/vnd.jupyter.widget-view+json": {
       "model_id": "bcb5a25905884b05b52eed9525ac0480",
       "version_major": 2,
       "version_minor": 0
      },
      "text/plain": [
       "HBox(children=(IntProgress(value=0, max=9296), HTML(value='')))"
      ]
     },
     "metadata": {},
     "output_type": "display_data"
    },
    {
     "name": "stdout",
     "output_type": "stream",
     "text": [
      "\n",
      "Epoch 5 | Loss: 15.386950492858887 | Train PPL: 4813574.4397103805 | Val PPL: 0\n"
     ]
    },
    {
     "data": {
      "application/vnd.jupyter.widget-view+json": {
       "model_id": "47469a6bf4f54f9d871089ba599a581e",
       "version_major": 2,
       "version_minor": 0
      },
      "text/plain": [
       "HBox(children=(IntProgress(value=0, max=9296), HTML(value='')))"
      ]
     },
     "metadata": {},
     "output_type": "display_data"
    },
    {
     "name": "stdout",
     "output_type": "stream",
     "text": [
      "Epoch 6 | Loss: 13.401597658793131 | Train PPL: 661058.5275040754 | Val PPL: 0\n"
     ]
    },
    {
     "data": {
      "application/vnd.jupyter.widget-view+json": {
       "model_id": "b8990c142a824c9a85269b3a079f53e5",
       "version_major": 2,
       "version_minor": 0
      },
      "text/plain": [
       "HBox(children=(IntProgress(value=0, max=9296), HTML(value='')))"
      ]
     },
     "metadata": {},
     "output_type": "display_data"
    },
    {
     "name": "stdout",
     "output_type": "stream",
     "text": [
      "\n",
      "Epoch 7 | Loss: 11.533591270446777 | Train PPL: 102088.08218423842 | Val PPL: 0\n"
     ]
    },
    {
     "data": {
      "application/vnd.jupyter.widget-view+json": {
       "model_id": "512c5b4a859a48edb3cdc1dac69e0e06",
       "version_major": 2,
       "version_minor": 0
      },
      "text/plain": [
       "HBox(children=(IntProgress(value=0, max=9296), HTML(value='')))"
      ]
     },
     "metadata": {},
     "output_type": "display_data"
    },
    {
     "name": "stdout",
     "output_type": "stream",
     "text": [
      "Epoch 8 | Loss: 10.075883547465006 | Train PPL: 23762.964814927014 | Val PPL: 0\n"
     ]
    },
    {
     "data": {
      "application/vnd.jupyter.widget-view+json": {
       "model_id": "dc5fd61582ed4bfc8c72791441a7d0e9",
       "version_major": 2,
       "version_minor": 0
      },
      "text/plain": [
       "HBox(children=(IntProgress(value=0, max=9296), HTML(value='')))"
      ]
     },
     "metadata": {},
     "output_type": "display_data"
    },
    {
     "name": "stdout",
     "output_type": "stream",
     "text": [
      "\n",
      "Epoch 9 | Loss: 9.019209861755371 | Train PPL: 8260.247764401127 | Val PPL: 0\n"
     ]
    },
    {
     "data": {
      "application/vnd.jupyter.widget-view+json": {
       "model_id": "eca9c7a275904e4895a2551527e5bac2",
       "version_major": 2,
       "version_minor": 0
      },
      "text/plain": [
       "HBox(children=(IntProgress(value=0, max=9296), HTML(value='')))"
      ]
     },
     "metadata": {},
     "output_type": "display_data"
    },
    {
     "name": "stdout",
     "output_type": "stream",
     "text": [
      "Epoch 10 | Loss: 8.248806794484457 | Train PPL: 3823.0614008857647 | Val PPL: 0\n"
     ]
    },
    {
     "data": {
      "application/vnd.jupyter.widget-view+json": {
       "model_id": "a5a083072ad24b94b5fb1306152220d5",
       "version_major": 2,
       "version_minor": 0
      },
      "text/plain": [
       "HBox(children=(IntProgress(value=0, max=9296), HTML(value='')))"
      ]
     },
     "metadata": {},
     "output_type": "display_data"
    },
    {
     "name": "stdout",
     "output_type": "stream",
     "text": [
      "\n",
      "\n",
      "\n",
      "\n",
      "\n",
      "\n",
      "Epoch 11 | Loss: 7.428682168324788 | Train PPL: 1683.587425959763 | Val PPL: 0\n"
     ]
    },
    {
     "data": {
      "application/vnd.jupyter.widget-view+json": {
       "model_id": "97ed21c58f54496a96449ccc4aa46952",
       "version_major": 2,
       "version_minor": 0
      },
      "text/plain": [
       "HBox(children=(IntProgress(value=0, max=9296), HTML(value='')))"
      ]
     },
     "metadata": {},
     "output_type": "display_data"
    },
    {
     "name": "stdout",
     "output_type": "stream",
     "text": [
      "Epoch 12 | Loss: 6.973869164784749 | Train PPL: 1068.3483799507499 | Val PPL: 0\n"
     ]
    },
    {
     "data": {
      "application/vnd.jupyter.widget-view+json": {
       "model_id": "ce54f3f28f6d49a4b29bba1d0db46d39",
       "version_major": 2,
       "version_minor": 0
      },
      "text/plain": [
       "HBox(children=(IntProgress(value=0, max=9296), HTML(value='')))"
      ]
     },
     "metadata": {},
     "output_type": "display_data"
    },
    {
     "name": "stdout",
     "output_type": "stream",
     "text": [
      "\n",
      "Epoch 13 | Loss: 6.4639045397440595 | Train PPL: 641.561173590667 | Val PPL: 0\n"
     ]
    },
    {
     "data": {
      "application/vnd.jupyter.widget-view+json": {
       "model_id": "4e546d57b3554231a451a1579e03e6d7",
       "version_major": 2,
       "version_minor": 0
      },
      "text/plain": [
       "HBox(children=(IntProgress(value=0, max=9296), HTML(value='')))"
      ]
     },
     "metadata": {},
     "output_type": "display_data"
    },
    {
     "name": "stdout",
     "output_type": "stream",
     "text": [
      "Epoch 14 | Loss: 6.141090075174968 | Train PPL: 464.5596999459836 | Val PPL: 0\n"
     ]
    },
    {
     "data": {
      "application/vnd.jupyter.widget-view+json": {
       "model_id": "ee880e9281c74f678c2952857b44ecb8",
       "version_major": 2,
       "version_minor": 0
      },
      "text/plain": [
       "HBox(children=(IntProgress(value=0, max=9296), HTML(value='')))"
      ]
     },
     "metadata": {},
     "output_type": "display_data"
    },
    {
     "name": "stdout",
     "output_type": "stream",
     "text": [
      "\n",
      "Epoch 15 | Loss: 5.738229433695476 | Train PPL: 310.514138107831 | Val PPL: 0\n"
     ]
    },
    {
     "data": {
      "application/vnd.jupyter.widget-view+json": {
       "model_id": "a5ceec8c5d514946880fbfa1bc1dd865",
       "version_major": 2,
       "version_minor": 0
      },
      "text/plain": [
       "HBox(children=(IntProgress(value=0, max=9296), HTML(value='')))"
      ]
     },
     "metadata": {},
     "output_type": "display_data"
    },
    {
     "name": "stdout",
     "output_type": "stream",
     "text": [
      "Epoch 16 | Loss: 5.593597571055095 | Train PPL: 268.70055229558915 | Val PPL: 0\n"
     ]
    },
    {
     "data": {
      "application/vnd.jupyter.widget-view+json": {
       "model_id": "f5d61bcf3bc54ce29e9f824092c647af",
       "version_major": 2,
       "version_minor": 0
      },
      "text/plain": [
       "HBox(children=(IntProgress(value=0, max=9296), HTML(value='')))"
      ]
     },
     "metadata": {},
     "output_type": "display_data"
    },
    {
     "name": "stdout",
     "output_type": "stream",
     "text": [
      "\n",
      "Epoch 17 | Loss: 5.125375429789226 | Train PPL: 168.23729108774697 | Val PPL: 0\n"
     ]
    },
    {
     "data": {
      "application/vnd.jupyter.widget-view+json": {
       "model_id": "0a6f6a1110034e5ba90ab3b45a1f55ff",
       "version_major": 2,
       "version_minor": 0
      },
      "text/plain": [
       "HBox(children=(IntProgress(value=0, max=9296), HTML(value='')))"
      ]
     },
     "metadata": {},
     "output_type": "display_data"
    },
    {
     "name": "stdout",
     "output_type": "stream",
     "text": [
      "Epoch 18 | Loss: 4.946265856424968 | Train PPL: 140.6487793727388 | Val PPL: 0\n"
     ]
    },
    {
     "data": {
      "application/vnd.jupyter.widget-view+json": {
       "model_id": "441251038b6a4abfa66f04c9774b61fe",
       "version_major": 2,
       "version_minor": 0
      },
      "text/plain": [
       "HBox(children=(IntProgress(value=0, max=9296), HTML(value='')))"
      ]
     },
     "metadata": {},
     "output_type": "display_data"
    },
    {
     "name": "stdout",
     "output_type": "stream",
     "text": [
      "\n",
      "Epoch 19 | Loss: 4.733453750610352 | Train PPL: 113.68753346187538 | Val PPL: 0\n"
     ]
    },
    {
     "data": {
      "application/vnd.jupyter.widget-view+json": {
       "model_id": "8116a3eac6ee43a89edacef1e6af3929",
       "version_major": 2,
       "version_minor": 0
      },
      "text/plain": [
       "HBox(children=(IntProgress(value=0, max=9296), HTML(value='')))"
      ]
     },
     "metadata": {},
     "output_type": "display_data"
    },
    {
     "name": "stdout",
     "output_type": "stream",
     "text": [
      "Epoch 20 | Loss: 4.467822313308716 | Train PPL: 87.1666944268005 | Val PPL: 0\n"
     ]
    },
    {
     "data": {
      "application/vnd.jupyter.widget-view+json": {
       "model_id": "982da3baff544d06b43582e6c56f68a1",
       "version_major": 2,
       "version_minor": 0
      },
      "text/plain": [
       "HBox(children=(IntProgress(value=0, max=9296), HTML(value='')))"
      ]
     },
     "metadata": {},
     "output_type": "display_data"
    },
    {
     "name": "stdout",
     "output_type": "stream",
     "text": [
      "\n",
      "Epoch 21 | Loss: 4.178085088729858 | Train PPL: 65.24080317308635 | Val PPL: 0\n"
     ]
    },
    {
     "data": {
      "application/vnd.jupyter.widget-view+json": {
       "model_id": "449120bb3c014ace820721f19e483cb3",
       "version_major": 2,
       "version_minor": 0
      },
      "text/plain": [
       "HBox(children=(IntProgress(value=0, max=9296), HTML(value='')))"
      ]
     },
     "metadata": {},
     "output_type": "display_data"
    },
    {
     "name": "stdout",
     "output_type": "stream",
     "text": [
      "Epoch 22 | Loss: 4.250153462092082 | Train PPL: 70.11617169548782 | Val PPL: 0\n"
     ]
    },
    {
     "data": {
      "application/vnd.jupyter.widget-view+json": {
       "model_id": "a3367c146c9341f0b5ec9e95e223ed98",
       "version_major": 2,
       "version_minor": 0
      },
      "text/plain": [
       "HBox(children=(IntProgress(value=0, max=9296), HTML(value='')))"
      ]
     },
     "metadata": {},
     "output_type": "display_data"
    },
    {
     "name": "stdout",
     "output_type": "stream",
     "text": [
      "\n",
      "Epoch 23 | Loss: 3.8012410004933677 | Train PPL: 44.75669312130451 | Val PPL: 0\n"
     ]
    },
    {
     "data": {
      "application/vnd.jupyter.widget-view+json": {
       "model_id": "beda85c48e03474b925855ae73064915",
       "version_major": 2,
       "version_minor": 0
      },
      "text/plain": [
       "HBox(children=(IntProgress(value=0, max=9296), HTML(value='')))"
      ]
     },
     "metadata": {},
     "output_type": "display_data"
    },
    {
     "name": "stdout",
     "output_type": "stream",
     "text": [
      "Epoch 24 | Loss: 3.631168524424235 | Train PPL: 37.75691072200749 | Val PPL: 0\n"
     ]
    },
    {
     "data": {
      "application/vnd.jupyter.widget-view+json": {
       "model_id": "060f1f5a4cdc47cfb8c8db45dae7fee6",
       "version_major": 2,
       "version_minor": 0
      },
      "text/plain": [
       "HBox(children=(IntProgress(value=0, max=9296), HTML(value='')))"
      ]
     },
     "metadata": {},
     "output_type": "display_data"
    },
    {
     "name": "stdout",
     "output_type": "stream",
     "text": [
      "\n",
      "Epoch 25 | Loss: 3.444472869237264 | Train PPL: 31.32676579162402 | Val PPL: 0\n"
     ]
    },
    {
     "data": {
      "application/vnd.jupyter.widget-view+json": {
       "model_id": "59ded4d7985b47318c51fc387f7bad4f",
       "version_major": 2,
       "version_minor": 0
      },
      "text/plain": [
       "HBox(children=(IntProgress(value=0, max=9296), HTML(value='')))"
      ]
     },
     "metadata": {},
     "output_type": "display_data"
    },
    {
     "name": "stdout",
     "output_type": "stream",
     "text": [
      "Epoch 26 | Loss: 3.3478055795033774 | Train PPL: 28.440255237868836 | Val PPL: 0\n"
     ]
    },
    {
     "data": {
      "application/vnd.jupyter.widget-view+json": {
       "model_id": "226b44cdb49f43bd8e434abb379d53ed",
       "version_major": 2,
       "version_minor": 0
      },
      "text/plain": [
       "HBox(children=(IntProgress(value=0, max=9296), HTML(value='')))"
      ]
     },
     "metadata": {},
     "output_type": "display_data"
    },
    {
     "name": "stdout",
     "output_type": "stream",
     "text": [
      "\n",
      "Epoch 27 | Loss: 3.1177481015523276 | Train PPL: 22.595439673357586 | Val PPL: 0\n"
     ]
    },
    {
     "data": {
      "application/vnd.jupyter.widget-view+json": {
       "model_id": "376e9ee5f82b42bc95202586cd917d81",
       "version_major": 2,
       "version_minor": 0
      },
      "text/plain": [
       "HBox(children=(IntProgress(value=0, max=9296), HTML(value='')))"
      ]
     },
     "metadata": {},
     "output_type": "display_data"
    },
    {
     "name": "stdout",
     "output_type": "stream",
     "text": [
      "Epoch 28 | Loss: 2.758084694544474 | Train PPL: 15.769610384404467 | Val PPL: 0\n"
     ]
    },
    {
     "data": {
      "application/vnd.jupyter.widget-view+json": {
       "model_id": "b629fb039a994e33b4ba6526bca0fd95",
       "version_major": 2,
       "version_minor": 0
      },
      "text/plain": [
       "HBox(children=(IntProgress(value=0, max=9296), HTML(value='')))"
      ]
     },
     "metadata": {},
     "output_type": "display_data"
    },
    {
     "name": "stdout",
     "output_type": "stream",
     "text": [
      "\n",
      "Epoch 29 | Loss: 2.5207928816477456 | Train PPL: 12.438454977500959 | Val PPL: 0\n"
     ]
    },
    {
     "data": {
      "application/vnd.jupyter.widget-view+json": {
       "model_id": "bfa2355d89284461a222554bc9f6f8d1",
       "version_major": 2,
       "version_minor": 0
      },
      "text/plain": [
       "HBox(children=(IntProgress(value=0, max=9296), HTML(value='')))"
      ]
     },
     "metadata": {},
     "output_type": "display_data"
    }
   ],
   "source": [
    "model = BoxModel()\n",
    "if use_cuda:\n",
    "    model.cuda()\n",
    "trainer = Trainer(train_iter = train_iter, val_iter = val_iter)\n",
    "trainer.train_model(model = model, num_epochs = 40)"
   ]
  },
  {
   "cell_type": "code",
   "execution_count": null,
   "metadata": {
    "scrolled": false
   },
   "outputs": [],
   "source": [
    "v = torch.zeros((1,7,2,10))\n",
    "q = torch.ones((3,1,2,10))"
   ]
  },
  {
   "cell_type": "code",
   "execution_count": null,
   "metadata": {},
   "outputs": [],
   "source": [
    "torch.min(v, q).shape"
   ]
  },
  {
   "cell_type": "code",
   "execution_count": null,
   "metadata": {},
   "outputs": [],
   "source": [
    "v = v.view(-1,7,2,10).repeat(3, 1, 1, 1)"
   ]
  },
  {
   "cell_type": "code",
   "execution_count": null,
   "metadata": {},
   "outputs": [],
   "source": [
    "torch.max(v, q).shape"
   ]
  },
  {
   "cell_type": "code",
   "execution_count": null,
   "metadata": {},
   "outputs": [],
   "source": []
  }
 ],
 "metadata": {
  "kernelspec": {
   "display_name": "Python 3",
   "language": "python",
   "name": "python3"
  },
  "language_info": {
   "codemirror_mode": {
    "name": "ipython",
    "version": 3
   },
   "file_extension": ".py",
   "mimetype": "text/x-python",
   "name": "python",
   "nbconvert_exporter": "python",
   "pygments_lexer": "ipython3",
   "version": "3.7.4"
  }
 },
 "nbformat": 4,
 "nbformat_minor": 2
}
